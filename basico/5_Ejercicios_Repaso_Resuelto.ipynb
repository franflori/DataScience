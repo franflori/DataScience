{
 "cells": [
  {
   "cell_type": "markdown",
   "id": "de813868",
   "metadata": {},
   "source": [
    "# Ejercicio 1"
   ]
  },
  {
   "cell_type": "markdown",
   "id": "6d2e863d",
   "metadata": {},
   "source": [
    "**a)** Declara la variable \"test\" como una lista con los siguientes componentes: 25, 8, 32, 20, 1. Usa las formas que conozcas para crearla y el uso de type para asegurarte de que es una lista."
   ]
  },
  {
   "cell_type": "code",
   "execution_count": 2,
   "id": "87b278ad",
   "metadata": {},
   "outputs": [
    {
     "data": {
      "text/plain": [
       "[25, 8, 32, 20, 1]"
      ]
     },
     "execution_count": 2,
     "metadata": {},
     "output_type": "execute_result"
    }
   ],
   "source": [
    "test = list((25, 8, 32, 20, 1))\n",
    "test"
   ]
  },
  {
   "cell_type": "code",
   "execution_count": 3,
   "id": "c5c95ba0",
   "metadata": {},
   "outputs": [
    {
     "data": {
      "text/plain": [
       "[25, 8, 32, 20, 1]"
      ]
     },
     "execution_count": 3,
     "metadata": {},
     "output_type": "execute_result"
    }
   ],
   "source": [
    "test = [25, 8, 32, 20, 1]\n",
    "test"
   ]
  },
  {
   "cell_type": "code",
   "execution_count": 4,
   "id": "82bef022",
   "metadata": {},
   "outputs": [
    {
     "data": {
      "text/plain": [
       "list"
      ]
     },
     "execution_count": 4,
     "metadata": {},
     "output_type": "execute_result"
    }
   ],
   "source": [
    "type(test)"
   ]
  },
  {
   "cell_type": "markdown",
   "id": "bddded2e",
   "metadata": {},
   "source": [
    "**b)** Apendiza un valor de valor 20, 32, 25, 32"
   ]
  },
  {
   "cell_type": "code",
   "execution_count": 60,
   "id": "66be8ea9",
   "metadata": {},
   "outputs": [
    {
     "data": {
      "text/plain": [
       "[25, 8, 32, 20, 1, 20]"
      ]
     },
     "execution_count": 60,
     "metadata": {},
     "output_type": "execute_result"
    }
   ],
   "source": [
    "test.append(20)\n",
    "test"
   ]
  },
  {
   "cell_type": "code",
   "execution_count": 61,
   "id": "af2adb32",
   "metadata": {},
   "outputs": [
    {
     "data": {
      "text/plain": [
       "[25, 8, 32, 20, 1, 20, 32]"
      ]
     },
     "execution_count": 61,
     "metadata": {},
     "output_type": "execute_result"
    }
   ],
   "source": [
    "test.append(32)\n",
    "test"
   ]
  },
  {
   "cell_type": "code",
   "execution_count": 62,
   "id": "88fc7dc4",
   "metadata": {},
   "outputs": [
    {
     "data": {
      "text/plain": [
       "[25, 8, 32, 20, 1, 20, 32, 25]"
      ]
     },
     "execution_count": 62,
     "metadata": {},
     "output_type": "execute_result"
    }
   ],
   "source": [
    "test.append(25)\n",
    "test"
   ]
  },
  {
   "cell_type": "code",
   "execution_count": 63,
   "id": "7c8fe8ad",
   "metadata": {},
   "outputs": [
    {
     "data": {
      "text/plain": [
       "[25, 8, 32, 20, 1, 20, 32, 25, 32]"
      ]
     },
     "execution_count": 63,
     "metadata": {},
     "output_type": "execute_result"
    }
   ],
   "source": [
    "test.append(32)\n",
    "test"
   ]
  },
  {
   "cell_type": "markdown",
   "id": "50b8e3c2",
   "metadata": {},
   "source": [
    "**otra forma**"
   ]
  },
  {
   "cell_type": "code",
   "execution_count": 64,
   "id": "1cceaeca",
   "metadata": {},
   "outputs": [
    {
     "data": {
      "text/plain": [
       "[25, 8, 32, 20, 1]"
      ]
     },
     "execution_count": 64,
     "metadata": {},
     "output_type": "execute_result"
    }
   ],
   "source": [
    "test = [25, 8, 32, 20, 1]\n",
    "test"
   ]
  },
  {
   "cell_type": "code",
   "execution_count": 65,
   "id": "4ed1e6b5",
   "metadata": {},
   "outputs": [
    {
     "data": {
      "text/plain": [
       "[25, 8, 32, 20, 1, 20, 32, 25, 32]"
      ]
     },
     "execution_count": 65,
     "metadata": {},
     "output_type": "execute_result"
    }
   ],
   "source": [
    "listas = [20, 32, 25, 32]\n",
    "\n",
    "for lista in listas:\n",
    "    test.append(lista)\n",
    "test"
   ]
  },
  {
   "cell_type": "markdown",
   "id": "666f86ba",
   "metadata": {},
   "source": [
    "**c)** Elimina el valor 8 de la lista"
   ]
  },
  {
   "cell_type": "code",
   "execution_count": 66,
   "id": "adf1c974",
   "metadata": {},
   "outputs": [
    {
     "data": {
      "text/plain": [
       "[25, 32, 20, 1, 20, 32, 25, 32]"
      ]
     },
     "execution_count": 66,
     "metadata": {},
     "output_type": "execute_result"
    }
   ],
   "source": [
    "test.remove(test[1])\n",
    "test"
   ]
  },
  {
   "cell_type": "code",
   "execution_count": 24,
   "id": "df783c25",
   "metadata": {},
   "outputs": [
    {
     "data": {
      "text/plain": [
       "[25, 32, 20, 1, 20, 32, 25, 32]"
      ]
     },
     "execution_count": 24,
     "metadata": {},
     "output_type": "execute_result"
    }
   ],
   "source": [
    "test.remove(8)\n",
    "test"
   ]
  },
  {
   "cell_type": "markdown",
   "id": "ae2c6173",
   "metadata": {},
   "source": [
    "**d)** Elimina los duplicados que haya en la lista test"
   ]
  },
  {
   "cell_type": "code",
   "execution_count": 67,
   "id": "5591f967",
   "metadata": {},
   "outputs": [
    {
     "data": {
      "text/plain": [
       "[32, 25, 20, 1]"
      ]
     },
     "execution_count": 67,
     "metadata": {},
     "output_type": "execute_result"
    }
   ],
   "source": [
    "test = list(set(test))\n",
    "test"
   ]
  },
  {
   "cell_type": "markdown",
   "id": "e3044a4f",
   "metadata": {},
   "source": [
    "**e)** Crea una segunda lista de nombre \"info\" que contenga los valores: 25, 100, 10, 20, 5, 25, 30, 200"
   ]
  },
  {
   "cell_type": "code",
   "execution_count": 68,
   "id": "a2d1a834",
   "metadata": {},
   "outputs": [
    {
     "data": {
      "text/plain": [
       "[25, 100, 10, 20, 5, 25, 30, 200]"
      ]
     },
     "execution_count": 68,
     "metadata": {},
     "output_type": "execute_result"
    }
   ],
   "source": [
    "info = [25, 100, 10, 20, 5, 25, 30, 200]\n",
    "info"
   ]
  },
  {
   "cell_type": "markdown",
   "id": "5085cdea",
   "metadata": {},
   "source": [
    "**f)** ¿Cuántos valores se repiten entre las listas?"
   ]
  },
  {
   "cell_type": "code",
   "execution_count": 69,
   "id": "f3c497e7",
   "metadata": {},
   "outputs": [
    {
     "name": "stdout",
     "output_type": "stream",
     "text": [
      "Numero repetido:  25\n",
      "Numero repetido:  25\n",
      "Numero repetido:  20\n",
      "3\n"
     ]
    }
   ],
   "source": [
    "contador = 0\n",
    "for n in test:\n",
    "    for i in info:\n",
    "        if n == i:\n",
    "            print('Numero repetido: ', n)\n",
    "            contador += 1\n",
    "print(contador)\n",
    "            "
   ]
  },
  {
   "cell_type": "markdown",
   "id": "218989d0",
   "metadata": {},
   "source": [
    "**g)** Muéstrame el maximo y mínimo en las dos listas"
   ]
  },
  {
   "cell_type": "code",
   "execution_count": 70,
   "id": "97f0c600",
   "metadata": {},
   "outputs": [
    {
     "data": {
      "text/plain": [
       "(32, 1)"
      ]
     },
     "execution_count": 70,
     "metadata": {},
     "output_type": "execute_result"
    }
   ],
   "source": [
    "max(test), min(test)"
   ]
  },
  {
   "cell_type": "code",
   "execution_count": 71,
   "id": "81f94fb0",
   "metadata": {},
   "outputs": [
    {
     "data": {
      "text/plain": [
       "(200, 5)"
      ]
     },
     "execution_count": 71,
     "metadata": {},
     "output_type": "execute_result"
    }
   ],
   "source": [
    "max(info), min(info)"
   ]
  },
  {
   "cell_type": "markdown",
   "id": "286ff78c",
   "metadata": {},
   "source": [
    "**h)** Crea una nueva variable de nombre \"matriz\" transformando la lista test en matriz"
   ]
  },
  {
   "cell_type": "code",
   "execution_count": 72,
   "id": "f7446e1d",
   "metadata": {},
   "outputs": [
    {
     "data": {
      "text/plain": [
       "array([32, 25, 20,  1])"
      ]
     },
     "execution_count": 72,
     "metadata": {},
     "output_type": "execute_result"
    }
   ],
   "source": [
    "import numpy as np\n",
    "\n",
    "matriz = np.array(test)\n",
    "matriz"
   ]
  },
  {
   "cell_type": "markdown",
   "id": "a46a0e78",
   "metadata": {},
   "source": [
    "**i)** Crea una función que se llame \"funcion_división\" donde se divida el test con valor 32 entre info con valor 5 y muestra el resto de la división"
   ]
  },
  {
   "cell_type": "code",
   "execution_count": 79,
   "id": "0ae2dcf7",
   "metadata": {},
   "outputs": [],
   "source": [
    "# Info[4] == 5\n",
    "# test[0] == 32\n",
    "def funcion_division(n, s):\n",
    "    return test[n] % info[s]"
   ]
  },
  {
   "cell_type": "code",
   "execution_count": 74,
   "id": "5dca98b3",
   "metadata": {},
   "outputs": [
    {
     "name": "stdout",
     "output_type": "stream",
     "text": [
      "0\n"
     ]
    }
   ],
   "source": [
    "n = 0\n",
    "for i in test:\n",
    "    if i == 32:\n",
    "        break\n",
    "    n += 1\n",
    "print(n)\n"
   ]
  },
  {
   "cell_type": "code",
   "execution_count": 76,
   "id": "beeb8336",
   "metadata": {},
   "outputs": [
    {
     "name": "stdout",
     "output_type": "stream",
     "text": [
      "4\n"
     ]
    }
   ],
   "source": [
    "s = 0\n",
    "for j in info:\n",
    "    if j == 5:\n",
    "        break\n",
    "    s += 1\n",
    "print(s)"
   ]
  },
  {
   "cell_type": "code",
   "execution_count": 80,
   "id": "510d0c86",
   "metadata": {},
   "outputs": [
    {
     "data": {
      "text/plain": [
       "2"
      ]
     },
     "execution_count": 80,
     "metadata": {},
     "output_type": "execute_result"
    }
   ],
   "source": [
    "funcion_division(n, s)"
   ]
  },
  {
   "cell_type": "markdown",
   "id": "68614f7f",
   "metadata": {},
   "source": [
    "**j)** Con ayuda de reverse() muestra la inversa de test"
   ]
  },
  {
   "cell_type": "code",
   "execution_count": 53,
   "id": "15ad990c",
   "metadata": {},
   "outputs": [
    {
     "data": {
      "text/plain": [
       "[1, 20, 25, 32]"
      ]
     },
     "execution_count": 53,
     "metadata": {},
     "output_type": "execute_result"
    }
   ],
   "source": [
    "test.reverse()\n",
    "test"
   ]
  },
  {
   "cell_type": "markdown",
   "id": "eaaa9130",
   "metadata": {},
   "source": [
    "**k)** Con el listado info utiliza un bucle for con la ayuda de enumerate(), para mostrar posición y valor y crea un diccionario de nombre \"newDict\""
   ]
  },
  {
   "cell_type": "code",
   "execution_count": 54,
   "id": "faf990db",
   "metadata": {},
   "outputs": [
    {
     "name": "stdout",
     "output_type": "stream",
     "text": [
      "{0: 25, 1: 100, 2: 10, 3: 20, 4: 5, 5: 25, 6: 30, 7: 200}\n"
     ]
    }
   ],
   "source": [
    "newDict = {}\n",
    "\n",
    "for key, value in enumerate(info):\n",
    "    newDict[key] = value\n",
    "print(newDict)"
   ]
  },
  {
   "cell_type": "markdown",
   "id": "117e68f8",
   "metadata": {},
   "source": [
    "**l)** Crea un nuevo listado con nombre \"info2\" donde los valores: 25 se sustituya por \"María\", el valor 20 por \"Juan\" y el valor 10 por \"Pedro\""
   ]
  },
  {
   "cell_type": "code",
   "execution_count": 55,
   "id": "5e96fbd1",
   "metadata": {},
   "outputs": [
    {
     "data": {
      "text/plain": [
       "['María', 100, 'Pedro', 'Juan', 5, 'María', 30, 200]"
      ]
     },
     "execution_count": 55,
     "metadata": {},
     "output_type": "execute_result"
    }
   ],
   "source": [
    "info2 = []\n",
    "\n",
    "for i in info:\n",
    "    if i == 25:\n",
    "        info2.append(\"María\")\n",
    "    elif i == 20:\n",
    "        info2.append(\"Juan\")\n",
    "    elif i == 10:\n",
    "        info2.append(\"Pedro\")\n",
    "    else:\n",
    "        info2.append(i)\n",
    "info2"
   ]
  },
  {
   "cell_type": "markdown",
   "id": "1db2a591",
   "metadata": {},
   "source": [
    "**m)** Sustituye en el listado test los multiplos de 2 por \"Dos\""
   ]
  },
  {
   "cell_type": "code",
   "execution_count": 57,
   "id": "8c59008a",
   "metadata": {},
   "outputs": [
    {
     "data": {
      "text/plain": [
       "[1, 'Dos', 25, 'Dos']"
      ]
     },
     "execution_count": 57,
     "metadata": {},
     "output_type": "execute_result"
    }
   ],
   "source": [
    "n = 0\n",
    "\n",
    "for i in test:\n",
    "    if i%2 == 0:\n",
    "        test[n] = \"Dos\"\n",
    "    n += 1\n",
    "test"
   ]
  },
  {
   "cell_type": "markdown",
   "id": "1079289e",
   "metadata": {},
   "source": [
    "# Ejercicio 2: "
   ]
  },
  {
   "cell_type": "markdown",
   "id": "c9b078b0",
   "metadata": {},
   "source": [
    "Escribe un programa que imprima los números desde 1 hasta 100\n",
    "\n",
    "Pero:\n",
    "    \n",
    "   * Para los múltiplos de 3 escribe \"Hello\"\n",
    "   * Para los múltiplos de 5 escribe \"World\"\n",
    "   * Para los múltiplos de ambos (3 y 5) escribe \"Hello World\" \n",
    "   \n",
    "(en vez de los números correspondientes)"
   ]
  },
  {
   "cell_type": "code",
   "execution_count": 3,
   "id": "1d2efa3d",
   "metadata": {},
   "outputs": [
    {
     "name": "stdout",
     "output_type": "stream",
     "text": [
      "[  0   1   2   3   4   5   6   7   8   9  10  11  12  13  14  15  16  17\n",
      "  18  19  20  21  22  23  24  25  26  27  28  29  30  31  32  33  34  35\n",
      "  36  37  38  39  40  41  42  43  44  45  46  47  48  49  50  51  52  53\n",
      "  54  55  56  57  58  59  60  61  62  63  64  65  66  67  68  69  70  71\n",
      "  72  73  74  75  76  77  78  79  80  81  82  83  84  85  86  87  88  89\n",
      "  90  91  92  93  94  95  96  97  98  99 100]\n"
     ]
    }
   ],
   "source": [
    "# Crear la lista con todos los valores\n",
    "import numpy as np\n",
    "N = np.arange(0,101,1)\n",
    "N = N.tolist()\n",
    "print(np.array(N))"
   ]
  },
  {
   "cell_type": "code",
   "execution_count": 4,
   "id": "ea5e767f",
   "metadata": {},
   "outputs": [
    {
     "name": "stdout",
     "output_type": "stream",
     "text": [
      "['Hello World' '1' '2' 'Hello' '4' 'Hello World' 'Hello' '7' '8' 'Hello'\n",
      " 'Hello World' '11' 'Hello' '13' '14' 'Hello World' '16' '17' 'Hello' '19'\n",
      " 'Hello World' 'Hello' '22' '23' 'Hello' 'Hello World' '26' 'Hello' '28'\n",
      " '29' 'Hello World' '31' '32' 'Hello' '34' 'Hello World' 'Hello' '37' '38'\n",
      " 'Hello' 'Hello World' '41' 'Hello' '43' '44' 'Hello World' '46' '47'\n",
      " 'Hello' '49' 'Hello World' 'Hello' '52' '53' 'Hello' 'Hello World' '56'\n",
      " 'Hello' '58' '59' 'Hello World' '61' '62' 'Hello' '64' 'Hello World'\n",
      " 'Hello' '67' '68' 'Hello' 'Hello World' '71' 'Hello' '73' '74'\n",
      " 'Hello World' '76' '77' 'Hello' '79' 'Hello World' 'Hello' '82' '83'\n",
      " 'Hello' 'Hello World' '86' 'Hello' '88' '89' 'Hello World' '91' '92'\n",
      " 'Hello' '94' 'Hello World' 'Hello' '97' '98' 'Hello' 'Hello World']\n"
     ]
    }
   ],
   "source": [
    "# Sustituir los valores\n",
    "for i in N:\n",
    "    if N[i]%5 == 0:\n",
    "        N[i] = \"Hello World\"\n",
    "    if N[i]!=\"Hello World\" and N[i]%3 == 0:\n",
    "        N[i] = \"Hello\"\n",
    "    if N[i]!=\"Hello World\" and N[i]!=\"Hello\" and N[i]%5 == 0:\n",
    "        N[i] = \"World\"\n",
    "    \n",
    "\n",
    "print(np.array(N))"
   ]
  },
  {
   "cell_type": "code",
   "execution_count": 9,
   "id": "b08f911d",
   "metadata": {},
   "outputs": [
    {
     "name": "stdout",
     "output_type": "stream",
     "text": [
      "['1' '2' 'Hello' '4' 'World' 'Hello' '7' '8' 'Hello' 'World' '11' 'Hello'\n",
      " '13' '14' 'Hello World' '16' '17' 'Hello' '19' 'World' 'Hello' '22' '23'\n",
      " 'Hello' 'World' '26' 'Hello' '28' '29' 'Hello World' '31' '32' 'Hello'\n",
      " '34' 'World' 'Hello' '37' '38' 'Hello' 'World' '41' 'Hello' '43' '44'\n",
      " 'Hello World' '46' '47' 'Hello' '49' 'World' 'Hello' '52' '53' 'Hello'\n",
      " 'World' '56' 'Hello' '58' '59' 'Hello World' '61' '62' 'Hello' '64'\n",
      " 'World' 'Hello' '67' '68' 'Hello' 'World' '71' 'Hello' '73' '74'\n",
      " 'Hello World' '76' '77' 'Hello' '79' 'World' 'Hello' '82' '83' 'Hello'\n",
      " 'World' '86' 'Hello' '88' '89' 'Hello World' '91' '92' 'Hello' '94'\n",
      " 'World' 'Hello' '97' '98' 'Hello' 'World']\n"
     ]
    }
   ],
   "source": [
    "del N[0]\n",
    "print(np.array(N))"
   ]
  },
  {
   "cell_type": "code",
   "execution_count": null,
   "id": "bc288c12",
   "metadata": {},
   "outputs": [],
   "source": []
  }
 ],
 "metadata": {
  "kernelspec": {
   "display_name": "Python 3",
   "language": "python",
   "name": "python3"
  },
  "language_info": {
   "codemirror_mode": {
    "name": "ipython",
    "version": 3
   },
   "file_extension": ".py",
   "mimetype": "text/x-python",
   "name": "python",
   "nbconvert_exporter": "python",
   "pygments_lexer": "ipython3",
   "version": "3.8.10"
  }
 },
 "nbformat": 4,
 "nbformat_minor": 5
}
