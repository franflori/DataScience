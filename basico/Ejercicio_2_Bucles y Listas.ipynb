{
 "cells": [
  {
   "cell_type": "markdown",
   "id": "49aaad0c",
   "metadata": {},
   "source": [
    "*Creado por:*\n",
    "\n",
    "*Isabel Maniega*"
   ]
  },
  {
   "cell_type": "markdown",
   "id": "9fe6ed0d",
   "metadata": {},
   "source": [
    "# Ejercicio 1"
   ]
  },
  {
   "cell_type": "markdown",
   "id": "cefb97a2",
   "metadata": {},
   "source": [
    "Dado el siguiente listado: [\"Python\", \"Matlab\", \"R\", \"VBA\", \"Julia\", \"C++\"]."
   ]
  },
  {
   "cell_type": "markdown",
   "id": "0d1320c5",
   "metadata": {},
   "source": [
    "Modifica con un algoritmo ese listado.\n",
    "* Cuando encuentre Python debe poner un 1\n",
    "* y cuando encuentre otro lenguaje de programacion, un 0"
   ]
  },
  {
   "cell_type": "markdown",
   "id": "a923e3b1",
   "metadata": {},
   "source": [
    "es un simple ejemplo de modificación de valores en una lista"
   ]
  },
  {
   "cell_type": "code",
   "execution_count": 6,
   "id": "521f2e32",
   "metadata": {},
   "outputs": [
    {
     "data": {
      "text/plain": [
       "['Python', 'Matlab', 'R', 'VBA', 'Julia', 'C++']"
      ]
     },
     "execution_count": 6,
     "metadata": {},
     "output_type": "execute_result"
    }
   ],
   "source": [
    "languages =  [\"Python\", \"Matlab\", \"R\", \"VBA\", \"Julia\", \"C++\"]\n",
    "languages"
   ]
  },
  {
   "cell_type": "code",
   "execution_count": 4,
   "id": "efea4c24",
   "metadata": {},
   "outputs": [
    {
     "name": "stdout",
     "output_type": "stream",
     "text": [
      "[1, 0, 0, 0, 0, 0]\n"
     ]
    }
   ],
   "source": [
    "n = 0\n",
    "for language in languages:\n",
    "    if language == \"Python\":\n",
    "        languages[n] = 1\n",
    "    else:\n",
    "        languages[n] = 0\n",
    "    n += 1\n",
    "print(languages)\n",
    "        "
   ]
  },
  {
   "cell_type": "markdown",
   "id": "edffdcf6",
   "metadata": {},
   "source": [
    "**otra forma**"
   ]
  },
  {
   "cell_type": "code",
   "execution_count": 7,
   "id": "55e98281",
   "metadata": {},
   "outputs": [
    {
     "data": {
      "text/plain": [
       "[1, 0, 0, 0, 0, 0]"
      ]
     },
     "execution_count": 7,
     "metadata": {},
     "output_type": "execute_result"
    }
   ],
   "source": [
    "for i in range(len(languages)):\n",
    "    if languages[i] == \"Python\":\n",
    "        languages[i] = 1\n",
    "    else:\n",
    "        languages[i] = 0\n",
    "        \n",
    "languages"
   ]
  },
  {
   "cell_type": "markdown",
   "id": "4addbf4a",
   "metadata": {},
   "source": [
    "# Ejercicio 2"
   ]
  },
  {
   "cell_type": "markdown",
   "id": "985c63ce",
   "metadata": {},
   "source": [
    "L = [10, None, 8, 5, None, 20]"
   ]
  },
  {
   "cell_type": "code",
   "execution_count": 8,
   "id": "8e794ea9",
   "metadata": {},
   "outputs": [],
   "source": [
    "L = [10, None, 8, 5, None, 20]"
   ]
  },
  {
   "cell_type": "markdown",
   "id": "f2e34883",
   "metadata": {},
   "source": [
    "**2.2)** Susitituir por -1 el valor None usando bucles y listas"
   ]
  },
  {
   "cell_type": "code",
   "execution_count": 10,
   "id": "57f6e531",
   "metadata": {},
   "outputs": [
    {
     "name": "stdout",
     "output_type": "stream",
     "text": [
      "[10, -1, 8, 5, -1, 20]\n"
     ]
    }
   ],
   "source": [
    "for i in range(0, len(L)):\n",
    "    if L[i] == None:\n",
    "        L[i] = -1\n",
    "print(L)"
   ]
  },
  {
   "cell_type": "markdown",
   "id": "b347bd3e",
   "metadata": {},
   "source": [
    "**2.3)** Creamos un dataframe con los valores de la lista y modificamos los \"NaN\" por un valor de -1 (Valores nulos, suma, etc..)"
   ]
  },
  {
   "cell_type": "code",
   "execution_count": 17,
   "id": "e27849a0",
   "metadata": {},
   "outputs": [],
   "source": [
    "L = [10, None, 8, 5, None, 20]"
   ]
  },
  {
   "cell_type": "code",
   "execution_count": 18,
   "id": "e2992bc2",
   "metadata": {},
   "outputs": [],
   "source": [
    "# Recuerda instalar la libreria con:\n",
    "# pip install pandas\n",
    "import pandas as pd"
   ]
  },
  {
   "cell_type": "code",
   "execution_count": 19,
   "id": "17f5673b",
   "metadata": {},
   "outputs": [
    {
     "data": {
      "text/html": [
       "<div>\n",
       "<style scoped>\n",
       "    .dataframe tbody tr th:only-of-type {\n",
       "        vertical-align: middle;\n",
       "    }\n",
       "\n",
       "    .dataframe tbody tr th {\n",
       "        vertical-align: top;\n",
       "    }\n",
       "\n",
       "    .dataframe thead th {\n",
       "        text-align: right;\n",
       "    }\n",
       "</style>\n",
       "<table border=\"1\" class=\"dataframe\">\n",
       "  <thead>\n",
       "    <tr style=\"text-align: right;\">\n",
       "      <th></th>\n",
       "      <th>listado</th>\n",
       "    </tr>\n",
       "  </thead>\n",
       "  <tbody>\n",
       "    <tr>\n",
       "      <th>0</th>\n",
       "      <td>10.0</td>\n",
       "    </tr>\n",
       "    <tr>\n",
       "      <th>1</th>\n",
       "      <td>NaN</td>\n",
       "    </tr>\n",
       "    <tr>\n",
       "      <th>2</th>\n",
       "      <td>8.0</td>\n",
       "    </tr>\n",
       "    <tr>\n",
       "      <th>3</th>\n",
       "      <td>5.0</td>\n",
       "    </tr>\n",
       "    <tr>\n",
       "      <th>4</th>\n",
       "      <td>NaN</td>\n",
       "    </tr>\n",
       "    <tr>\n",
       "      <th>5</th>\n",
       "      <td>20.0</td>\n",
       "    </tr>\n",
       "  </tbody>\n",
       "</table>\n",
       "</div>"
      ],
      "text/plain": [
       "   listado\n",
       "0     10.0\n",
       "1      NaN\n",
       "2      8.0\n",
       "3      5.0\n",
       "4      NaN\n",
       "5     20.0"
      ]
     },
     "execution_count": 19,
     "metadata": {},
     "output_type": "execute_result"
    }
   ],
   "source": [
    "df = pd.DataFrame(L, columns=[\"listado\"])\n",
    "df"
   ]
  },
  {
   "cell_type": "code",
   "execution_count": 20,
   "id": "4a0160c4",
   "metadata": {},
   "outputs": [
    {
     "data": {
      "text/html": [
       "<div>\n",
       "<style scoped>\n",
       "    .dataframe tbody tr th:only-of-type {\n",
       "        vertical-align: middle;\n",
       "    }\n",
       "\n",
       "    .dataframe tbody tr th {\n",
       "        vertical-align: top;\n",
       "    }\n",
       "\n",
       "    .dataframe thead th {\n",
       "        text-align: right;\n",
       "    }\n",
       "</style>\n",
       "<table border=\"1\" class=\"dataframe\">\n",
       "  <thead>\n",
       "    <tr style=\"text-align: right;\">\n",
       "      <th></th>\n",
       "      <th>listado</th>\n",
       "    </tr>\n",
       "  </thead>\n",
       "  <tbody>\n",
       "    <tr>\n",
       "      <th>0</th>\n",
       "      <td>False</td>\n",
       "    </tr>\n",
       "    <tr>\n",
       "      <th>1</th>\n",
       "      <td>True</td>\n",
       "    </tr>\n",
       "    <tr>\n",
       "      <th>2</th>\n",
       "      <td>False</td>\n",
       "    </tr>\n",
       "    <tr>\n",
       "      <th>3</th>\n",
       "      <td>False</td>\n",
       "    </tr>\n",
       "    <tr>\n",
       "      <th>4</th>\n",
       "      <td>True</td>\n",
       "    </tr>\n",
       "    <tr>\n",
       "      <th>5</th>\n",
       "      <td>False</td>\n",
       "    </tr>\n",
       "  </tbody>\n",
       "</table>\n",
       "</div>"
      ],
      "text/plain": [
       "   listado\n",
       "0    False\n",
       "1     True\n",
       "2    False\n",
       "3    False\n",
       "4     True\n",
       "5    False"
      ]
     },
     "execution_count": 20,
     "metadata": {},
     "output_type": "execute_result"
    }
   ],
   "source": [
    "df.isnull()"
   ]
  },
  {
   "cell_type": "code",
   "execution_count": 21,
   "id": "1528fc59",
   "metadata": {},
   "outputs": [
    {
     "data": {
      "text/plain": [
       "listado    2\n",
       "dtype: int64"
      ]
     },
     "execution_count": 21,
     "metadata": {},
     "output_type": "execute_result"
    }
   ],
   "source": [
    "df.isnull().sum()"
   ]
  },
  {
   "cell_type": "code",
   "execution_count": 22,
   "id": "6c3f7ce0",
   "metadata": {},
   "outputs": [
    {
     "data": {
      "text/html": [
       "<div>\n",
       "<style scoped>\n",
       "    .dataframe tbody tr th:only-of-type {\n",
       "        vertical-align: middle;\n",
       "    }\n",
       "\n",
       "    .dataframe tbody tr th {\n",
       "        vertical-align: top;\n",
       "    }\n",
       "\n",
       "    .dataframe thead th {\n",
       "        text-align: right;\n",
       "    }\n",
       "</style>\n",
       "<table border=\"1\" class=\"dataframe\">\n",
       "  <thead>\n",
       "    <tr style=\"text-align: right;\">\n",
       "      <th></th>\n",
       "      <th>listado</th>\n",
       "    </tr>\n",
       "  </thead>\n",
       "  <tbody>\n",
       "    <tr>\n",
       "      <th>0</th>\n",
       "      <td>10.0</td>\n",
       "    </tr>\n",
       "    <tr>\n",
       "      <th>1</th>\n",
       "      <td>-1.0</td>\n",
       "    </tr>\n",
       "    <tr>\n",
       "      <th>2</th>\n",
       "      <td>8.0</td>\n",
       "    </tr>\n",
       "    <tr>\n",
       "      <th>3</th>\n",
       "      <td>5.0</td>\n",
       "    </tr>\n",
       "    <tr>\n",
       "      <th>4</th>\n",
       "      <td>-1.0</td>\n",
       "    </tr>\n",
       "    <tr>\n",
       "      <th>5</th>\n",
       "      <td>20.0</td>\n",
       "    </tr>\n",
       "  </tbody>\n",
       "</table>\n",
       "</div>"
      ],
      "text/plain": [
       "   listado\n",
       "0     10.0\n",
       "1     -1.0\n",
       "2      8.0\n",
       "3      5.0\n",
       "4     -1.0\n",
       "5     20.0"
      ]
     },
     "execution_count": 22,
     "metadata": {},
     "output_type": "execute_result"
    }
   ],
   "source": [
    "df.listado = df.listado.fillna(-1)\n",
    "df"
   ]
  },
  {
   "cell_type": "markdown",
   "id": "43d96b5f",
   "metadata": {},
   "source": [
    "**2.4)** Vuelve a escribir el listado con falta de valores (inicial), y sustituye por la media."
   ]
  },
  {
   "cell_type": "code",
   "execution_count": 23,
   "id": "dc540a2c",
   "metadata": {},
   "outputs": [],
   "source": [
    "L = [10, None, 8, 5, None, 20]"
   ]
  },
  {
   "cell_type": "code",
   "execution_count": 24,
   "id": "13b90858",
   "metadata": {},
   "outputs": [
    {
     "data": {
      "text/html": [
       "<div>\n",
       "<style scoped>\n",
       "    .dataframe tbody tr th:only-of-type {\n",
       "        vertical-align: middle;\n",
       "    }\n",
       "\n",
       "    .dataframe tbody tr th {\n",
       "        vertical-align: top;\n",
       "    }\n",
       "\n",
       "    .dataframe thead th {\n",
       "        text-align: right;\n",
       "    }\n",
       "</style>\n",
       "<table border=\"1\" class=\"dataframe\">\n",
       "  <thead>\n",
       "    <tr style=\"text-align: right;\">\n",
       "      <th></th>\n",
       "      <th>listado</th>\n",
       "    </tr>\n",
       "  </thead>\n",
       "  <tbody>\n",
       "    <tr>\n",
       "      <th>0</th>\n",
       "      <td>10.0</td>\n",
       "    </tr>\n",
       "    <tr>\n",
       "      <th>1</th>\n",
       "      <td>NaN</td>\n",
       "    </tr>\n",
       "    <tr>\n",
       "      <th>2</th>\n",
       "      <td>8.0</td>\n",
       "    </tr>\n",
       "    <tr>\n",
       "      <th>3</th>\n",
       "      <td>5.0</td>\n",
       "    </tr>\n",
       "    <tr>\n",
       "      <th>4</th>\n",
       "      <td>NaN</td>\n",
       "    </tr>\n",
       "    <tr>\n",
       "      <th>5</th>\n",
       "      <td>20.0</td>\n",
       "    </tr>\n",
       "  </tbody>\n",
       "</table>\n",
       "</div>"
      ],
      "text/plain": [
       "   listado\n",
       "0     10.0\n",
       "1      NaN\n",
       "2      8.0\n",
       "3      5.0\n",
       "4      NaN\n",
       "5     20.0"
      ]
     },
     "execution_count": 24,
     "metadata": {},
     "output_type": "execute_result"
    }
   ],
   "source": [
    "df = pd.DataFrame(L, columns=[\"listado\"])\n",
    "df"
   ]
  },
  {
   "cell_type": "code",
   "execution_count": 25,
   "id": "8b19624d",
   "metadata": {},
   "outputs": [
    {
     "data": {
      "text/html": [
       "<div>\n",
       "<style scoped>\n",
       "    .dataframe tbody tr th:only-of-type {\n",
       "        vertical-align: middle;\n",
       "    }\n",
       "\n",
       "    .dataframe tbody tr th {\n",
       "        vertical-align: top;\n",
       "    }\n",
       "\n",
       "    .dataframe thead th {\n",
       "        text-align: right;\n",
       "    }\n",
       "</style>\n",
       "<table border=\"1\" class=\"dataframe\">\n",
       "  <thead>\n",
       "    <tr style=\"text-align: right;\">\n",
       "      <th></th>\n",
       "      <th>listado</th>\n",
       "    </tr>\n",
       "  </thead>\n",
       "  <tbody>\n",
       "    <tr>\n",
       "      <th>0</th>\n",
       "      <td>10.00</td>\n",
       "    </tr>\n",
       "    <tr>\n",
       "      <th>1</th>\n",
       "      <td>10.75</td>\n",
       "    </tr>\n",
       "    <tr>\n",
       "      <th>2</th>\n",
       "      <td>8.00</td>\n",
       "    </tr>\n",
       "    <tr>\n",
       "      <th>3</th>\n",
       "      <td>5.00</td>\n",
       "    </tr>\n",
       "    <tr>\n",
       "      <th>4</th>\n",
       "      <td>10.75</td>\n",
       "    </tr>\n",
       "    <tr>\n",
       "      <th>5</th>\n",
       "      <td>20.00</td>\n",
       "    </tr>\n",
       "  </tbody>\n",
       "</table>\n",
       "</div>"
      ],
      "text/plain": [
       "   listado\n",
       "0    10.00\n",
       "1    10.75\n",
       "2     8.00\n",
       "3     5.00\n",
       "4    10.75\n",
       "5    20.00"
      ]
     },
     "execution_count": 25,
     "metadata": {},
     "output_type": "execute_result"
    }
   ],
   "source": [
    "df.listado = df.listado.fillna(df.listado.mean())\n",
    "df"
   ]
  },
  {
   "cell_type": "markdown",
   "id": "98c42fe5",
   "metadata": {},
   "source": [
    "**2.5)** Apendiza la columna con estos valores"
   ]
  },
  {
   "cell_type": "markdown",
   "id": "b58bdcde",
   "metadata": {},
   "source": [
    "listado2 = [10, 20, 50, 30, 20, 0]"
   ]
  },
  {
   "cell_type": "code",
   "execution_count": 26,
   "id": "9ecf738a",
   "metadata": {},
   "outputs": [],
   "source": [
    "listado2 = [10, 20, 50, 30, 20, 0]"
   ]
  },
  {
   "cell_type": "code",
   "execution_count": 27,
   "id": "85791625",
   "metadata": {},
   "outputs": [
    {
     "data": {
      "text/html": [
       "<div>\n",
       "<style scoped>\n",
       "    .dataframe tbody tr th:only-of-type {\n",
       "        vertical-align: middle;\n",
       "    }\n",
       "\n",
       "    .dataframe tbody tr th {\n",
       "        vertical-align: top;\n",
       "    }\n",
       "\n",
       "    .dataframe thead th {\n",
       "        text-align: right;\n",
       "    }\n",
       "</style>\n",
       "<table border=\"1\" class=\"dataframe\">\n",
       "  <thead>\n",
       "    <tr style=\"text-align: right;\">\n",
       "      <th></th>\n",
       "      <th>listado</th>\n",
       "      <th>listado2</th>\n",
       "    </tr>\n",
       "  </thead>\n",
       "  <tbody>\n",
       "    <tr>\n",
       "      <th>0</th>\n",
       "      <td>10.00</td>\n",
       "      <td>10</td>\n",
       "    </tr>\n",
       "    <tr>\n",
       "      <th>1</th>\n",
       "      <td>10.75</td>\n",
       "      <td>20</td>\n",
       "    </tr>\n",
       "    <tr>\n",
       "      <th>2</th>\n",
       "      <td>8.00</td>\n",
       "      <td>50</td>\n",
       "    </tr>\n",
       "    <tr>\n",
       "      <th>3</th>\n",
       "      <td>5.00</td>\n",
       "      <td>30</td>\n",
       "    </tr>\n",
       "    <tr>\n",
       "      <th>4</th>\n",
       "      <td>10.75</td>\n",
       "      <td>20</td>\n",
       "    </tr>\n",
       "    <tr>\n",
       "      <th>5</th>\n",
       "      <td>20.00</td>\n",
       "      <td>0</td>\n",
       "    </tr>\n",
       "  </tbody>\n",
       "</table>\n",
       "</div>"
      ],
      "text/plain": [
       "   listado  listado2\n",
       "0    10.00        10\n",
       "1    10.75        20\n",
       "2     8.00        50\n",
       "3     5.00        30\n",
       "4    10.75        20\n",
       "5    20.00         0"
      ]
     },
     "execution_count": 27,
     "metadata": {},
     "output_type": "execute_result"
    }
   ],
   "source": [
    "df['listado2'] = listado2\n",
    "df"
   ]
  },
  {
   "cell_type": "markdown",
   "id": "3ae98056",
   "metadata": {},
   "source": [
    "**2.6)** Elimina la columna L"
   ]
  },
  {
   "cell_type": "code",
   "execution_count": 31,
   "id": "f222c2d7",
   "metadata": {},
   "outputs": [
    {
     "data": {
      "text/html": [
       "<div>\n",
       "<style scoped>\n",
       "    .dataframe tbody tr th:only-of-type {\n",
       "        vertical-align: middle;\n",
       "    }\n",
       "\n",
       "    .dataframe tbody tr th {\n",
       "        vertical-align: top;\n",
       "    }\n",
       "\n",
       "    .dataframe thead th {\n",
       "        text-align: right;\n",
       "    }\n",
       "</style>\n",
       "<table border=\"1\" class=\"dataframe\">\n",
       "  <thead>\n",
       "    <tr style=\"text-align: right;\">\n",
       "      <th></th>\n",
       "      <th>listado</th>\n",
       "    </tr>\n",
       "  </thead>\n",
       "  <tbody>\n",
       "    <tr>\n",
       "      <th>0</th>\n",
       "      <td>10.00</td>\n",
       "    </tr>\n",
       "    <tr>\n",
       "      <th>1</th>\n",
       "      <td>10.75</td>\n",
       "    </tr>\n",
       "    <tr>\n",
       "      <th>2</th>\n",
       "      <td>8.00</td>\n",
       "    </tr>\n",
       "    <tr>\n",
       "      <th>3</th>\n",
       "      <td>5.00</td>\n",
       "    </tr>\n",
       "    <tr>\n",
       "      <th>4</th>\n",
       "      <td>10.75</td>\n",
       "    </tr>\n",
       "    <tr>\n",
       "      <th>5</th>\n",
       "      <td>20.00</td>\n",
       "    </tr>\n",
       "  </tbody>\n",
       "</table>\n",
       "</div>"
      ],
      "text/plain": [
       "   listado\n",
       "0    10.00\n",
       "1    10.75\n",
       "2     8.00\n",
       "3     5.00\n",
       "4    10.75\n",
       "5    20.00"
      ]
     },
     "execution_count": 31,
     "metadata": {},
     "output_type": "execute_result"
    }
   ],
   "source": [
    "df = df.drop([\"listado2\"], axis=1)\n",
    "df"
   ]
  },
  {
   "cell_type": "markdown",
   "id": "b5b2fb95",
   "metadata": {},
   "source": [
    "# Ejercicio 3"
   ]
  },
  {
   "cell_type": "markdown",
   "id": "323a9b57",
   "metadata": {},
   "source": [
    "Crear un listado con los siguientes numeros: 10, 20, 30, 40 (nombra la lista con nombre: \"listado\")"
   ]
  },
  {
   "cell_type": "code",
   "execution_count": 34,
   "id": "88e1f3f4",
   "metadata": {},
   "outputs": [],
   "source": [
    "listado = [10, 20, 30, 40 ]"
   ]
  },
  {
   "cell_type": "markdown",
   "id": "e009848a",
   "metadata": {},
   "source": [
    "**1)** Crea el listado e imprimelo:"
   ]
  },
  {
   "cell_type": "code",
   "execution_count": 35,
   "id": "d936c972",
   "metadata": {},
   "outputs": [
    {
     "name": "stdout",
     "output_type": "stream",
     "text": [
      "[10, 20, 30, 40]\n"
     ]
    }
   ],
   "source": [
    "print(listado)"
   ]
  },
  {
   "cell_type": "markdown",
   "id": "a4ed9a94",
   "metadata": {},
   "source": [
    "**2)** Apendiza el valor 50 ( si es posible)"
   ]
  },
  {
   "cell_type": "code",
   "execution_count": 36,
   "id": "8e366e1f",
   "metadata": {},
   "outputs": [
    {
     "data": {
      "text/plain": [
       "[10, 20, 30, 40, 50]"
      ]
     },
     "execution_count": 36,
     "metadata": {},
     "output_type": "execute_result"
    }
   ],
   "source": [
    "listado.append(50)\n",
    "listado"
   ]
  },
  {
   "cell_type": "markdown",
   "id": "ced62edb",
   "metadata": {},
   "source": [
    "**3)** Modifica (si es posible) el valor 10 por 100"
   ]
  },
  {
   "cell_type": "code",
   "execution_count": 37,
   "id": "ddc37f3e",
   "metadata": {},
   "outputs": [
    {
     "data": {
      "text/plain": [
       "[100, 20, 30, 40, 50]"
      ]
     },
     "execution_count": 37,
     "metadata": {},
     "output_type": "execute_result"
    }
   ],
   "source": [
    "listado[0] = 100\n",
    "listado"
   ]
  },
  {
   "cell_type": "markdown",
   "id": "1be8cf23",
   "metadata": {},
   "source": [
    "****"
   ]
  },
  {
   "cell_type": "markdown",
   "id": "21d8106c",
   "metadata": {},
   "source": [
    "# Ejercicio 4"
   ]
  },
  {
   "cell_type": "markdown",
   "id": "dda67c53",
   "metadata": {},
   "source": [
    "Da una lista de nombre \"Temperatura\" con valores: 10, 20, 30, 40, 50"
   ]
  },
  {
   "cell_type": "code",
   "execution_count": 38,
   "id": "12a61d74",
   "metadata": {},
   "outputs": [],
   "source": [
    "Temperatura = [10, 20, 30, 40, 50]"
   ]
  },
  {
   "cell_type": "markdown",
   "id": "2c208170",
   "metadata": {},
   "source": [
    "**1)** Crea el listado e imprimelo:"
   ]
  },
  {
   "cell_type": "code",
   "execution_count": 39,
   "id": "c6689147",
   "metadata": {},
   "outputs": [
    {
     "data": {
      "text/plain": [
       "[10, 20, 30, 40, 50]"
      ]
     },
     "execution_count": 39,
     "metadata": {},
     "output_type": "execute_result"
    }
   ],
   "source": [
    "Temperatura"
   ]
  },
  {
   "cell_type": "markdown",
   "id": "4babf81d",
   "metadata": {},
   "source": [
    "**2)** En este \"Temperatura\". ¿Cuál es el elemento en la posición (index) 1?"
   ]
  },
  {
   "cell_type": "code",
   "execution_count": 40,
   "id": "35b7c836",
   "metadata": {},
   "outputs": [
    {
     "data": {
      "text/plain": [
       "20"
      ]
     },
     "execution_count": 40,
     "metadata": {},
     "output_type": "execute_result"
    }
   ],
   "source": [
    "Temperatura[1]"
   ]
  },
  {
   "cell_type": "markdown",
   "id": "ecbdfc97",
   "metadata": {},
   "source": [
    "**3)** ¿Y en la posición (index) 0?"
   ]
  },
  {
   "cell_type": "code",
   "execution_count": 41,
   "id": "bdddf11d",
   "metadata": {},
   "outputs": [
    {
     "data": {
      "text/plain": [
       "10"
      ]
     },
     "execution_count": 41,
     "metadata": {},
     "output_type": "execute_result"
    }
   ],
   "source": [
    "Temperatura[0]"
   ]
  },
  {
   "cell_type": "markdown",
   "id": "452ab50b",
   "metadata": {},
   "source": [
    "**4)** ¿Y en la posición (index) -1?"
   ]
  },
  {
   "cell_type": "code",
   "execution_count": 42,
   "id": "003073d8",
   "metadata": {},
   "outputs": [
    {
     "data": {
      "text/plain": [
       "50"
      ]
     },
     "execution_count": 42,
     "metadata": {},
     "output_type": "execute_result"
    }
   ],
   "source": [
    "Temperatura[-1]"
   ]
  },
  {
   "cell_type": "markdown",
   "id": "aa39aac3",
   "metadata": {},
   "source": [
    "*Creado por:*\n",
    "\n",
    "*Isabel Maniega*"
   ]
  }
 ],
 "metadata": {
  "kernelspec": {
   "display_name": "Python 3",
   "language": "python",
   "name": "python3"
  },
  "language_info": {
   "codemirror_mode": {
    "name": "ipython",
    "version": 3
   },
   "file_extension": ".py",
   "mimetype": "text/x-python",
   "name": "python",
   "nbconvert_exporter": "python",
   "pygments_lexer": "ipython3",
   "version": "3.8.10"
  }
 },
 "nbformat": 4,
 "nbformat_minor": 5
}
