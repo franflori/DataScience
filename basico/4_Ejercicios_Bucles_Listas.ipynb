{
 "cells": [
  {
   "cell_type": "markdown",
   "id": "a5f6d5d7",
   "metadata": {},
   "source": [
    "*Creado por:*\n",
    "\n",
    "*Isabel Maniega*"
   ]
  },
  {
   "cell_type": "markdown",
   "id": "68bb3a4d",
   "metadata": {},
   "source": [
    "# Ejercicio 1"
   ]
  },
  {
   "cell_type": "markdown",
   "id": "64640529",
   "metadata": {},
   "source": [
    "Crear un pequeño programa que calcule la multiplicación de 2 números (x, y)\n",
    " * x = 3, y = 5\n",
    " * x = 7, y = 3"
   ]
  },
  {
   "cell_type": "markdown",
   "id": "4337dccb",
   "metadata": {},
   "source": [
    "* a) Con una función (por ejemplo funcion_multiplicar)"
   ]
  },
  {
   "cell_type": "code",
   "execution_count": 1,
   "id": "66205b0e",
   "metadata": {},
   "outputs": [],
   "source": [
    "def funcion_multiplicar(x,y):\n",
    "    return x*y"
   ]
  },
  {
   "cell_type": "code",
   "execution_count": 2,
   "id": "bd68e54c",
   "metadata": {},
   "outputs": [
    {
     "data": {
      "text/plain": [
       "15"
      ]
     },
     "execution_count": 2,
     "metadata": {},
     "output_type": "execute_result"
    }
   ],
   "source": [
    "# funcion_multiplicar(x,y)\n",
    "funcion_multiplicar(3,5)"
   ]
  },
  {
   "cell_type": "code",
   "execution_count": 3,
   "id": "5752e3f4",
   "metadata": {},
   "outputs": [
    {
     "data": {
      "text/plain": [
       "21"
      ]
     },
     "execution_count": 3,
     "metadata": {},
     "output_type": "execute_result"
    }
   ],
   "source": [
    "funcion_multiplicar(7,3)"
   ]
  },
  {
   "cell_type": "markdown",
   "id": "fc312ce7",
   "metadata": {},
   "source": [
    "* b) Con la función lambda (Tal vez puedes ir a repasarlo)"
   ]
  },
  {
   "cell_type": "markdown",
   "id": "a9087de9",
   "metadata": {},
   "source": [
    "**una forma...**"
   ]
  },
  {
   "cell_type": "code",
   "execution_count": 4,
   "id": "21921f8e",
   "metadata": {},
   "outputs": [
    {
     "data": {
      "text/plain": [
       "15"
      ]
     },
     "execution_count": 4,
     "metadata": {},
     "output_type": "execute_result"
    }
   ],
   "source": [
    "(lambda x,y : x*y)(3,5)"
   ]
  },
  {
   "cell_type": "code",
   "execution_count": 5,
   "id": "7a652e69",
   "metadata": {},
   "outputs": [
    {
     "data": {
      "text/plain": [
       "21"
      ]
     },
     "execution_count": 5,
     "metadata": {},
     "output_type": "execute_result"
    }
   ],
   "source": [
    "(lambda x,y : x*y)(7,3)"
   ]
  },
  {
   "cell_type": "markdown",
   "id": "1febfae4",
   "metadata": {},
   "source": [
    "**otra forma...**"
   ]
  },
  {
   "cell_type": "code",
   "execution_count": 6,
   "id": "93433f35",
   "metadata": {},
   "outputs": [],
   "source": [
    "f = lambda x,y : x*y"
   ]
  },
  {
   "cell_type": "code",
   "execution_count": 7,
   "id": "ba46cc21",
   "metadata": {},
   "outputs": [
    {
     "data": {
      "text/plain": [
       "15"
      ]
     },
     "execution_count": 7,
     "metadata": {},
     "output_type": "execute_result"
    }
   ],
   "source": [
    "f(3,5)"
   ]
  },
  {
   "cell_type": "code",
   "execution_count": 8,
   "id": "ef476759",
   "metadata": {},
   "outputs": [
    {
     "data": {
      "text/plain": [
       "21"
      ]
     },
     "execution_count": 8,
     "metadata": {},
     "output_type": "execute_result"
    }
   ],
   "source": [
    "f(7,3)"
   ]
  },
  {
   "cell_type": "markdown",
   "id": "3f51bb05",
   "metadata": {},
   "source": [
    "* c) Realizarlo con entrada de teclado (input)"
   ]
  },
  {
   "cell_type": "code",
   "execution_count": 9,
   "id": "27724ebb",
   "metadata": {},
   "outputs": [
    {
     "name": "stdout",
     "output_type": "stream",
     "text": [
      "escriba un número: 2\n",
      "escriba un número: 3\n",
      "6\n"
     ]
    }
   ],
   "source": [
    "# primera vez que lo necesito\n",
    "\n",
    "x=int(input(\"escriba un número: \"))\n",
    "y=int(input(\"escriba un número: \"))\n",
    "z=x*y\n",
    "print(z)"
   ]
  },
  {
   "cell_type": "code",
   "execution_count": 10,
   "id": "8397dc41",
   "metadata": {},
   "outputs": [
    {
     "name": "stdout",
     "output_type": "stream",
     "text": [
      "escriba un número: 7\n",
      "escriba un número: 3\n",
      "21\n"
     ]
    }
   ],
   "source": [
    "# segunda vez que lo necesito\n",
    "\n",
    "x=int(input(\"escriba un número: \"))\n",
    "y=int(input(\"escriba un número: \"))\n",
    "z=x*y\n",
    "print(z)"
   ]
  },
  {
   "cell_type": "markdown",
   "id": "ee175aa5",
   "metadata": {},
   "source": [
    "**Otra forma sin ser tan repetitivo...**"
   ]
  },
  {
   "cell_type": "code",
   "execution_count": 11,
   "id": "d1c6d4d7",
   "metadata": {},
   "outputs": [
    {
     "name": "stdout",
     "output_type": "stream",
     "text": [
      "escriba un número: 7\n",
      "escriba un número: 3\n",
      "21\n"
     ]
    }
   ],
   "source": [
    "# USAMOS PRINT\n",
    "\n",
    "def funcion_multiplicar():\n",
    "    x=int(input(\"escriba un número: \"))\n",
    "    y=int(input(\"escriba un número: \"))\n",
    "    z=x*y\n",
    "    print(z)\n",
    "    \n",
    "funcion_multiplicar()"
   ]
  },
  {
   "cell_type": "markdown",
   "id": "10a32628",
   "metadata": {},
   "source": [
    "# Ejercicio 2"
   ]
  },
  {
   "cell_type": "markdown",
   "id": "9943794f",
   "metadata": {},
   "source": [
    "-A-"
   ]
  },
  {
   "cell_type": "markdown",
   "id": "a91cec70",
   "metadata": {},
   "source": [
    "Dado un string:\n",
    "* \"Level\""
   ]
  },
  {
   "cell_type": "markdown",
   "id": "a0c810f6",
   "metadata": {},
   "source": [
    "¿Es un palíndromo?"
   ]
  },
  {
   "cell_type": "markdown",
   "id": "4a052702",
   "metadata": {},
   "source": [
    "-B-"
   ]
  },
  {
   "cell_type": "markdown",
   "id": "52983aa1",
   "metadata": {},
   "source": [
    "¿Y este string?"
   ]
  },
  {
   "cell_type": "markdown",
   "id": "8cc00967",
   "metadata": {},
   "source": [
    "* \"level\""
   ]
  },
  {
   "cell_type": "markdown",
   "id": "9b2f5e6f",
   "metadata": {},
   "source": [
    "Nota: \"Es un palíndromo si se invierte el orden del string, el resultado es exactamente el mismo\""
   ]
  },
  {
   "cell_type": "code",
   "execution_count": 15,
   "id": "563169b6",
   "metadata": {},
   "outputs": [],
   "source": [
    "A = \"Level\""
   ]
  },
  {
   "cell_type": "code",
   "execution_count": 16,
   "id": "96ae3a1f",
   "metadata": {},
   "outputs": [
    {
     "data": {
      "text/plain": [
       "['l', 'e', 'v', 'e', 'L']"
      ]
     },
     "execution_count": 16,
     "metadata": {},
     "output_type": "execute_result"
    }
   ],
   "source": [
    "# lista vacia para invertir la lista inicial\n",
    "A1=[]\n",
    "\n",
    "# el último valor (index -1)\n",
    "i=-1\n",
    "\n",
    "# revertimos el orden de la lista inicial (A)\n",
    "while len(A1)<len(A):\n",
    "    A1.append(A[i])\n",
    "    i-=1  # i = i-1\n",
    "\n",
    "A1"
   ]
  },
  {
   "cell_type": "code",
   "execution_count": 17,
   "id": "37e08a66",
   "metadata": {},
   "outputs": [
    {
     "name": "stdout",
     "output_type": "stream",
     "text": [
      "no un palíndromo\n",
      "tenemos 2 elementos diferentes\n"
     ]
    }
   ],
   "source": [
    "# palíndromo o no\n",
    "\n",
    "different = 0 # inicializamos la variable\n",
    "\n",
    "for i in range(len(A)):\n",
    "    if A[i] != A1[i]:\n",
    "        different += 1\n",
    "            \n",
    "if different == 0:\n",
    "    print(\"palíndromo\")\n",
    "else:\n",
    "    print(\"no un palíndromo\")\n",
    "    print(\"tenemos\", different, \"elementos diferentes\")"
   ]
  },
  {
   "cell_type": "markdown",
   "id": "e0590128",
   "metadata": {},
   "source": [
    "# Ejercicio 3"
   ]
  },
  {
   "cell_type": "markdown",
   "id": "ee05882c",
   "metadata": {},
   "source": [
    "Dado 2 strings:"
   ]
  },
  {
   "cell_type": "markdown",
   "id": "dcb755be",
   "metadata": {},
   "source": [
    "* S1 = \"Hi!\"\n",
    "* S2 = \"Hello!\""
   ]
  },
  {
   "cell_type": "markdown",
   "id": "4b6dc7b9",
   "metadata": {},
   "source": [
    "Imprimir las letras que son comunes"
   ]
  },
  {
   "cell_type": "markdown",
   "id": "44cc45ca",
   "metadata": {},
   "source": [
    "**Solución 1**"
   ]
  },
  {
   "cell_type": "code",
   "execution_count": 18,
   "id": "9a5cb1d3",
   "metadata": {},
   "outputs": [
    {
     "name": "stdout",
     "output_type": "stream",
     "text": [
      "H\n",
      "!\n"
     ]
    }
   ],
   "source": [
    "S1 = \"Hi!\"\n",
    "S2 = \"Hello!\" \n",
    "\n",
    "for elemento in S1: # H-i-!\n",
    "    for letra in S2: \n",
    "        if elemento == letra:\n",
    "            print(elemento)"
   ]
  },
  {
   "cell_type": "markdown",
   "id": "93c69b16",
   "metadata": {},
   "source": [
    "**Solución 2**"
   ]
  },
  {
   "cell_type": "code",
   "execution_count": 19,
   "id": "4aa120fc",
   "metadata": {},
   "outputs": [
    {
     "data": {
      "text/plain": [
       "['H', '!']"
      ]
     },
     "execution_count": 19,
     "metadata": {},
     "output_type": "execute_result"
    }
   ],
   "source": [
    "S1 = \"Hi!\"\n",
    "S2 = \"HelloH!\"\n",
    "\n",
    "sin_coincidencia = []\n",
    "\n",
    "for elemento in S1: # H-i-!\n",
    "    for letra in S2: \n",
    "        if elemento == letra and elemento not in sin_coincidencia:\n",
    "            sin_coincidencia.append(elemento)\n",
    "            \n",
    "sin_coincidencia"
   ]
  },
  {
   "cell_type": "markdown",
   "id": "a0fba3c2",
   "metadata": {},
   "source": [
    "*Creado por:*\n",
    "\n",
    "*Isabel Maniega*"
   ]
  }
 ],
 "metadata": {
  "kernelspec": {
   "display_name": "Python 3",
   "language": "python",
   "name": "python3"
  },
  "language_info": {
   "codemirror_mode": {
    "name": "ipython",
    "version": 3
   },
   "file_extension": ".py",
   "mimetype": "text/x-python",
   "name": "python",
   "nbconvert_exporter": "python",
   "pygments_lexer": "ipython3",
   "version": "3.8.10"
  }
 },
 "nbformat": 4,
 "nbformat_minor": 5
}
