{
 "cells": [
  {
   "cell_type": "markdown",
   "id": "30a55ef2",
   "metadata": {},
   "source": [
    "*Creado por:*\n",
    "\n",
    "*Isabel Maniega*"
   ]
  },
  {
   "cell_type": "markdown",
   "id": "5e997ed2",
   "metadata": {},
   "source": [
    "# Ejercicio 1"
   ]
  },
  {
   "cell_type": "markdown",
   "id": "c3a051fb",
   "metadata": {},
   "source": [
    "Dada una lista de nombre \"listado\" y con valores: 10,20,30,40,50"
   ]
  },
  {
   "cell_type": "code",
   "execution_count": 4,
   "id": "e472ceac",
   "metadata": {},
   "outputs": [],
   "source": [
    "listado = [10,20,30,40,50]"
   ]
  },
  {
   "cell_type": "markdown",
   "id": "f2ef223e",
   "metadata": {},
   "source": [
    "**1)**\n",
    "\n",
    "Crea un pequeño programa capaz de conseguir el orden inverso de los números de \"listado\""
   ]
  },
  {
   "cell_type": "code",
   "execution_count": 1,
   "id": "83dac1d9",
   "metadata": {},
   "outputs": [],
   "source": [
    "# imprime nuevamente el listado para tenerlo \"a mano\"\n",
    "# 10-20-30-40-50 (tengo)\n",
    "# 50-40-30-20-10 (lo que busco)"
   ]
  },
  {
   "cell_type": "code",
   "execution_count": 7,
   "id": "7d1b9dcb",
   "metadata": {},
   "outputs": [],
   "source": [
    "# necesitas instalar con:\n",
    "# pip install numpy\n",
    "import numpy as np"
   ]
  },
  {
   "cell_type": "code",
   "execution_count": 8,
   "id": "1520988e",
   "metadata": {},
   "outputs": [
    {
     "data": {
      "text/plain": [
       "[1, 2, 3, 4, 5]"
      ]
     },
     "execution_count": 8,
     "metadata": {},
     "output_type": "execute_result"
    }
   ],
   "source": [
    "rango_indices = np.arange(1,len(listado)+1,1).tolist()\n",
    "rango_indices"
   ]
  },
  {
   "cell_type": "code",
   "execution_count": 9,
   "id": "82af0cf6",
   "metadata": {},
   "outputs": [
    {
     "data": {
      "text/plain": [
       "[50, 40, 30, 20, 10]"
      ]
     },
     "execution_count": 9,
     "metadata": {},
     "output_type": "execute_result"
    }
   ],
   "source": [
    "# OJO! \"indice\" está en negativo.\n",
    "# tengo indice: 0a4 y de -1 a -5\n",
    "# pero no de 1 a 5 \n",
    "listado_inverso = []                              # []\n",
    "\n",
    "\n",
    "for indice in rango_indices:                      # 1-2-3-4-5\n",
    "    listado_inverso.append(listado[-indice])      # [1º]=> [50]--[50,40]--[50,40,30]--[50,40,30,20]--[50,40,30,20,10]\n",
    "\n",
    "listado_inverso"
   ]
  },
  {
   "cell_type": "markdown",
   "id": "3b67e062",
   "metadata": {},
   "source": [
    "# Ejercicio 2"
   ]
  },
  {
   "cell_type": "markdown",
   "id": "3021c48f",
   "metadata": {},
   "source": [
    "Programa que coge por teclado 5 números y los almacena en una lista\n",
    "\n",
    "Nota: \n",
    "\n",
    "debería estar en la misma celda\n",
    "\n",
    "Hazlo como puedas, discurre cómo sería.."
   ]
  },
  {
   "cell_type": "code",
   "execution_count": 10,
   "id": "38aefcc9",
   "metadata": {},
   "outputs": [
    {
     "name": "stdout",
     "output_type": "stream",
     "text": [
      "Escribe un número entero: 1\n",
      "Escribe un número entero: 2\n",
      "Escribe un número entero: 3\n",
      "Escribe un número entero: 4\n",
      "Escribe un número entero: 5\n",
      "\n",
      "\n"
     ]
    },
    {
     "data": {
      "text/plain": [
       "[1, 2, 3, 4, 5]"
      ]
     },
     "execution_count": 10,
     "metadata": {},
     "output_type": "execute_result"
    }
   ],
   "source": [
    "# entrada por teclao de 5 números\n",
    "\n",
    "listado_teclado = []\n",
    "\n",
    "for i in np.arange(1,6,1):\n",
    "    entrada = int(input(\"Escribe un número entero: \"))\n",
    "    listado_teclado.append(entrada)\n",
    "\n",
    "print(\"\\n\")\n",
    "listado_teclado"
   ]
  },
  {
   "cell_type": "markdown",
   "id": "ad206fd8",
   "metadata": {},
   "source": [
    "# Ejercicio 3"
   ]
  },
  {
   "cell_type": "markdown",
   "id": "c471472d",
   "metadata": {},
   "source": [
    "Programa que coge por teclado una frase y es capaz de decir cuántas vocales hay\n",
    "\n",
    "Nota: asume que son letras minúsculas sin tildes."
   ]
  },
  {
   "cell_type": "markdown",
   "id": "f3d748f6",
   "metadata": {},
   "source": [
    "**1)**\n",
    "\n",
    "Entrada de texto por teclado"
   ]
  },
  {
   "cell_type": "code",
   "execution_count": 11,
   "id": "fd92f6ec",
   "metadata": {},
   "outputs": [
    {
     "name": "stdout",
     "output_type": "stream",
     "text": [
      "añada una frase: Hola Mundo\n"
     ]
    },
    {
     "data": {
      "text/plain": [
       "'Hola Mundo'"
      ]
     },
     "execution_count": 11,
     "metadata": {},
     "output_type": "execute_result"
    }
   ],
   "source": [
    "# entrada de texto por teclado\n",
    "frase = input(\"añada una frase: \")\n",
    "frase"
   ]
  },
  {
   "cell_type": "markdown",
   "id": "cd958281",
   "metadata": {},
   "source": [
    "**2)**\n",
    "\n",
    "Hazlo si puedes de varias formas\n",
    "\n",
    "**forma 1: contar vocales en palabra/frase**"
   ]
  },
  {
   "cell_type": "code",
   "execution_count": 12,
   "id": "2d3c52b9",
   "metadata": {},
   "outputs": [
    {
     "data": {
      "text/plain": [
       "4"
      ]
     },
     "execution_count": 12,
     "metadata": {},
     "output_type": "execute_result"
    }
   ],
   "source": [
    "# vocales\n",
    "\n",
    "contador_vocales = 0 # contador a 0\n",
    "\n",
    "vocales = [\"a\", \"e\", \"i\", \"o\", \"u\"]\n",
    "\n",
    "for letra in frase:\n",
    "    if letra in vocales:\n",
    "        contador_vocales+=1\n",
    "        \n",
    "contador_vocales"
   ]
  },
  {
   "cell_type": "markdown",
   "id": "5d957ff5",
   "metadata": {},
   "source": [
    "**3)**\n",
    "\n",
    "Hazlo de otra forma si se te ocurre..\n",
    "\n",
    "**forma 2**"
   ]
  },
  {
   "cell_type": "code",
   "execution_count": 13,
   "id": "63e67184",
   "metadata": {},
   "outputs": [
    {
     "data": {
      "text/plain": [
       "4"
      ]
     },
     "execution_count": 13,
     "metadata": {},
     "output_type": "execute_result"
    }
   ],
   "source": [
    "numero_vocales = 0\n",
    "for letra in frase:\n",
    "    if (letra==\"a\") | (letra==\"e\") | (letra==\"i\") | (letra==\"o\") | (letra==\"u\"):\n",
    "        numero_vocales+=1\n",
    "        \n",
    "numero_vocales"
   ]
  },
  {
   "cell_type": "markdown",
   "id": "49870bab",
   "metadata": {},
   "source": [
    "# Ejercicio 4"
   ]
  },
  {
   "cell_type": "markdown",
   "id": "102cb147",
   "metadata": {},
   "source": [
    "Tablas de multiplicar:\n",
    "    \n",
    "Haz algo tal que:\n",
    "\n",
    "1) Pregunta al usuario que tabla quiere multiplicar: <1 al 10>\n",
    "    \n",
    "2) Muestra los resultados de esta forma:\n",
    "    \n",
    "2 x 1 = 2\n",
    "\n",
    "2 x 2 = 4\n",
    "\n",
    "...\n",
    "\n",
    "2 x 10 = 20"
   ]
  },
  {
   "cell_type": "code",
   "execution_count": 14,
   "id": "cd0a40cd",
   "metadata": {},
   "outputs": [
    {
     "name": "stdout",
     "output_type": "stream",
     "text": [
      "Elija de que número quiere las Tablas de multiplicar: <1 a 10>: 6\n"
     ]
    },
    {
     "data": {
      "text/plain": [
       "6"
      ]
     },
     "execution_count": 14,
     "metadata": {},
     "output_type": "execute_result"
    }
   ],
   "source": [
    "tabla = int(input(\"Elija de que número quiere las Tablas de multiplicar: <1 a 10>: \"))\n",
    "tabla"
   ]
  },
  {
   "cell_type": "code",
   "execution_count": 15,
   "id": "5c57417a",
   "metadata": {},
   "outputs": [
    {
     "data": {
      "text/plain": [
       "array([ 0,  1,  2,  3,  4,  5,  6,  7,  8,  9, 10])"
      ]
     },
     "execution_count": 15,
     "metadata": {},
     "output_type": "execute_result"
    }
   ],
   "source": [
    "import numpy as np\n",
    "numeros = np.arange(0,11,1)\n",
    "numeros"
   ]
  },
  {
   "cell_type": "code",
   "execution_count": 16,
   "id": "fac2a7e2",
   "metadata": {},
   "outputs": [
    {
     "name": "stdout",
     "output_type": "stream",
     "text": [
      "6  x  0  =  0\n",
      "6  x  1  =  6\n",
      "6  x  2  =  12\n",
      "6  x  3  =  18\n",
      "6  x  4  =  24\n",
      "6  x  5  =  30\n",
      "6  x  6  =  36\n",
      "6  x  7  =  42\n",
      "6  x  8  =  48\n",
      "6  x  9  =  54\n",
      "6  x  10  =  60\n"
     ]
    }
   ],
   "source": [
    "for numero in numeros:\n",
    "    print(tabla, \" x \", numero, \" = \", tabla*numero)"
   ]
  },
  {
   "cell_type": "markdown",
   "id": "40314866",
   "metadata": {},
   "source": [
    "*Creado por:*\n",
    "\n",
    "*Isabel Maniega*"
   ]
  }
 ],
 "metadata": {
  "kernelspec": {
   "display_name": "Python 3",
   "language": "python",
   "name": "python3"
  },
  "language_info": {
   "codemirror_mode": {
    "name": "ipython",
    "version": 3
   },
   "file_extension": ".py",
   "mimetype": "text/x-python",
   "name": "python",
   "nbconvert_exporter": "python",
   "pygments_lexer": "ipython3",
   "version": "3.8.10"
  }
 },
 "nbformat": 4,
 "nbformat_minor": 5
}
